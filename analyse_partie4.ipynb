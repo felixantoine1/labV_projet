{
 "cells": [
  {
   "cell_type": "code",
   "execution_count": null,
   "metadata": {},
   "outputs": [],
   "source": [
    "import pandas as pd\n",
    "import numpy as np\n",
    "import matplotlib.pyplot as mpl\n",
    "from sklearn.metrics import r2_score\n",
    "from io import StringIO\n",
    "import glob\n",
    "import os\n",
    "import raytracing as rt\n",
    "from scipy.ndimage import gaussian_filter\n",
    "\n",
    "import scipy.optimize as spo\n",
    "import scipy.constants as spc\n",
    "import scipy.integrate as spi\n",
    "import scipy.linalg as spl\n",
    "import scipy.signal as spsi\n",
    "import scipy.stats as spst"
   ]
  },
  {
   "cell_type": "code",
   "execution_count": null,
   "metadata": {},
   "outputs": [],
   "source": [
    "def lire_csv(chemin_fichier):\n",
    "    \"\"\"\n",
    "    Lecture d'un fichier CSV avec une première ligne à ignorer,\n",
    "    et renvoie un DataFrame pandas.\n",
    "\n",
    "    Args:\n",
    "        chemin_fichier (str): Le chemin d'accès vers le fichier CSV.\n",
    "\n",
    "    Returns:\n",
    "        pandas.DataFrame: Un DataFrame pandas contenant les données du fichier CSV.\n",
    "    \"\"\"\n",
    "    # Lire le fichier en ignorant la première ligne\n",
    "    with open(chemin_fichier, 'r', encoding='utf-8') as fichier:\n",
    "        lignes = fichier.readlines()[1:]  # Ignorer la première ligne\n",
    "    \n",
    "    # Préparer le contenu transformé\n",
    "    contenu_transforme = []\n",
    "    for ligne in lignes:\n",
    "        partie_gauche, _, partie_droite = ligne.partition(', ')  # Séparer à la première virgule\n",
    "        partie_gauche, partie_droite = partie_gauche.replace(',', '.'), partie_droite.replace(',', '.')   # Au cas où, mais devrait être inutile ici\n",
    "        ligne_transformee = partie_gauche + ';' + partie_droite\n",
    "        contenu_transforme.append(ligne_transformee)\n",
    "    \n",
    "    # Convertir le contenu transformé en un objet StringIO\n",
    "    contenu_csv = StringIO(''.join(contenu_transforme))\n",
    "    \n",
    "    # Lire le contenu transformé en DataFrame\n",
    "    df = pd.read_csv(contenu_csv, names=['Pixels', 'Value'],sep=\";\")\n",
    "    return df"
   ]
  },
  {
   "cell_type": "code",
   "execution_count": null,
   "metadata": {},
   "outputs": [],
   "source": [
    "def normalisation(dataframe):\n",
    "    \"\"\"Fonction qui normalise les dataframes.\n",
    "\n",
    "    Args:\n",
    "        dataframe (DataFrame)\n",
    "\n",
    "    Returns:\n",
    "        DataFrame: Dataframe normalisé.\n",
    "    \"\"\"\n",
    "    return (dataframe-min(dataframe))/np.ptp(dataframe)"
   ]
  },
  {
   "cell_type": "code",
   "execution_count": null,
   "metadata": {},
   "outputs": [],
   "source": [
    "def figure_plot_p4(df):\n",
    "    mpl.plot(df[\"Pixels\"], normalisation(df[\"Value\"]),color=\"k\")\n",
    "    mpl.ylabel(\"Intensité normalisé [-]\")\n",
    "    mpl.xlabel(\"Position [Pixel]\")\n",
    "    mpl.legend(frameon=False) \n",
    "    mpl.tick_params(axis='both', which='both', direction='in')\n",
    "    mpl.minorticks_on()\n",
    "    mpl.show()"
   ]
  },
  {
   "cell_type": "markdown",
   "metadata": {},
   "source": [
    "# Données partie 4"
   ]
  },
  {
   "cell_type": "markdown",
   "metadata": {},
   "source": [
    "## Données partie 4 x"
   ]
  },
  {
   "cell_type": "code",
   "execution_count": null,
   "metadata": {},
   "outputs": [],
   "source": [
    "# Données 2D\n",
    "partie4_2d_x = lire_csv(r\"partie_4\\partie4_2d_x.csv\")\n",
    "\n",
    "# Données avec filtre Ramlack\n",
    "partie4_3d_040_025_ramlack_x = lire_csv(r\"partie_4/partie4_3d_040_025_ramlack_x.csv\")\n",
    "partie4_3d_040_025_ramlack_x_v2 = lire_csv(r\"partie_4\\partie4_3d_040_025_ramlack_x_v2.csv\")\n",
    "partie4_3d_160_025_ramlack_x = lire_csv(r\"partie_4\\partie4_3d_160_025_ramlack_x.csv\")\n",
    "\n",
    "# Influence de la résolution : 0,25 ; 0,50 ; 2,00\n",
    "partie4_3d_320_025_x = lire_csv(r\"partie_4\\partie4_3d_320_025_x.csv\")\n",
    "partie4_3d_320_050_x = lire_csv(r\"partie_4\\partie4_3d_320_050_x.csv\")\n",
    "partie4_3d_320_200_x = lire_csv(r\"partie_4\\partie4_3d_320_200_x.csv\")"
   ]
  },
  {
   "cell_type": "markdown",
   "metadata": {},
   "source": [
    "## Données partie 4 y"
   ]
  },
  {
   "cell_type": "code",
   "execution_count": null,
   "metadata": {},
   "outputs": [],
   "source": [
    "# Données 2D\n",
    "partie4_2d_y = lire_csv(r\"partie_4\\partie4_2d_y.csv\")\n",
    "\n",
    "# Données avec filtre Ramlack\n",
    "partie4_3d_040_025_ramlack_y_v2 = lire_csv(r\"partie_4\\partie4_3d_040_025_ramlack_y_v2.csv\")\n",
    "partie4_3d_040_025_ramlack_y = lire_csv(r\"partie_4\\partie4_3d_040_025_ramlack_y.csv\")\n",
    "partie4_3d_160_025_ramlack_y = lire_csv(r\"partie_4\\partie4_3d_160_025_ramlack_y.csv\")\n",
    "\n",
    "# Données avec diaphragme\n",
    "partie4_3d_320_025_dia050_y = lire_csv(r\"partie_4\\partie4_3d_320_025_dia050_y.csv\")\n",
    "partie4_3d_320_025_dia150_y = lire_csv(r\"partie_4\\partie4_3d_320_025_dia150_y.csv\")\n",
    "\n",
    "# Données sans filtre\n",
    "partie4_3d_320_025_nofilter_y = lire_csv(r\"partie_4\\partie4_3d_320_025_nofilter_y.csv\")\n",
    "\n",
    "# Influence de la résolution : 0,25 ; 0,50 ; 2,00\n",
    "partie4_3d_320_025_y = lire_csv(r\"partie_4\\partie4_3d_320_025_y.csv\")\n",
    "partie4_3d_320_050_y = lire_csv(r\"partie_4\\partie4_3d_320_050_y.csv\")\n",
    "partie4_3d_320_200_y = lire_csv(r\"partie_4\\partie4_3d_320_200_y.csv\")"
   ]
  }
 ],
 "metadata": {
  "language_info": {
   "name": "python"
  }
 },
 "nbformat": 4,
 "nbformat_minor": 2
}
