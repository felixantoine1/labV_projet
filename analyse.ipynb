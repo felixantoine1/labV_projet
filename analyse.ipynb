{
 "cells": [
  {
   "cell_type": "code",
   "execution_count": 73,
   "metadata": {},
   "outputs": [],
   "source": [
    "import pandas as pd\n",
    "import numpy as np\n",
    "import matplotlib.pyplot as mpl\n",
    "from sklearn.metrics import r2_score\n",
    "from io import StringIO\n",
    "import glob\n",
    "import os\n",
    "import raytracing as rt\n",
    "from scipy.ndimage import gaussian_filter\n",
    "\n",
    "import scipy.optimize as spo\n",
    "import scipy.constants as spc\n",
    "import scipy.integrate as spi\n",
    "import scipy.linalg as spl\n",
    "import scipy.signal as spsi\n",
    "import scipy.stats as spst"
   ]
  },
  {
   "cell_type": "code",
   "execution_count": 74,
   "metadata": {},
   "outputs": [],
   "source": [
    "def lire_csv(chemin_fichier):\n",
    "    \"\"\"\n",
    "    Lecture d'un fichier CSV avec une première ligne à ignorer,\n",
    "    et renvoie un DataFrame pandas.\n",
    "\n",
    "    Args:\n",
    "        chemin_fichier (str): Le chemin d'accès vers le fichier CSV.\n",
    "\n",
    "    Returns:\n",
    "        pandas.DataFrame: Un DataFrame pandas contenant les données du fichier CSV.\n",
    "    \"\"\"\n",
    "    # Lire le fichier en ignorant la première ligne\n",
    "    with open(chemin_fichier, 'r', encoding='utf-8') as fichier:\n",
    "        lignes = fichier.readlines()[1:]  # Ignorer la première ligne\n",
    "    \n",
    "    # Préparer le contenu transformé\n",
    "    contenu_transforme = []\n",
    "    for ligne in lignes:\n",
    "        partie_gauche, _, partie_droite = ligne.partition(', ')  # Séparer à la première virgule\n",
    "        partie_gauche, partie_droite = partie_gauche.replace(',', '.'), partie_droite.replace(',', '.')   # Au cas où, mais devrait être inutile ici\n",
    "        ligne_transformee = partie_gauche + ';' + partie_droite\n",
    "        contenu_transforme.append(ligne_transformee)\n",
    "    \n",
    "    # Convertir le contenu transformé en un objet StringIO\n",
    "    contenu_csv = StringIO(''.join(contenu_transforme))\n",
    "    \n",
    "    # Lire le contenu transformé en DataFrame\n",
    "    df = pd.read_csv(contenu_csv, names=['Pixels', 'Value'],sep=\";\")\n",
    "    return df"
   ]
  },
  {
   "cell_type": "markdown",
   "metadata": {},
   "source": [
    "## Données de la partie 1"
   ]
  },
  {
   "cell_type": "code",
   "execution_count": 75,
   "metadata": {},
   "outputs": [],
   "source": [
    "df_partie_1 = pd.read_excel(\"Projet_final.xlsx\", sheet_name=\"Partie 1\")\n"
   ]
  },
  {
   "cell_type": "code",
   "execution_count": 76,
   "metadata": {},
   "outputs": [],
   "source": [
    "volume = df_partie_1[r\"Volume solution ajoutée (ml)\"]\n",
    "mu_2d = df_partie_1[r\"2D \\mu\"]\n",
    "mu_3d = df_partie_1[r\"3D \\mu\"]\n",
    "sigma_3d = df_partie_1[r\"3D \\sigma\"]\n",
    "ln_intensity = df_partie_1[r\"2D ln(I_0/I)\"]\n",
    "sigma_ln_intensity = df_partie_1[r\"2D \\sigma \\ln(I_0/I)\"]"
   ]
  },
  {
   "cell_type": "markdown",
   "metadata": {},
   "source": [
    "## Données de la partie 2"
   ]
  },
  {
   "cell_type": "code",
   "execution_count": 77,
   "metadata": {},
   "outputs": [],
   "source": [
    "df_partie_2 = pd.read_excel(\"Projet_final.xlsx\", sheet_name=\"Partie 2\")\n",
    "\n",
    "doigt1_mu = df_partie_2[\"doigt 1 (plus gros)\"][1:5]\n",
    "doigt1_sigma = df_partie_2[\"Unnamed: 3\"][1:5]\n",
    "doigt2_mu = df_partie_2[\"doigt 2\"][1:5]\n",
    "doigt2_sigma = df_partie_2[\"Unnamed: 5\"][1:5]\n",
    "doigt3_mu = df_partie_2[\"doigt 3\"][1:5]\n",
    "doigt3_sigma = df_partie_2[\"Unnamed: 7\"][1:5]\n",
    "doigt4_mu = df_partie_2[\"doigt 4 (plus petit)\"][1:5]\n",
    "doigt4_sigma = df_partie_2[\"Unnamed: 9\"][1:5]"
   ]
  },
  {
   "cell_type": "markdown",
   "metadata": {},
   "source": [
    "## Données de la partie 3"
   ]
  },
  {
   "cell_type": "code",
   "execution_count": 78,
   "metadata": {},
   "outputs": [],
   "source": [
    "# Partie 3 a\n",
    "df_partie_3a = pd.read_excel(\"Projet_final.xlsx\", sheet_name=\"Partie 3a\")\n",
    "\n",
    "p3a_ms = df_partie_3a[\"ms\"]\n",
    "p3a_shutter_speed = df_partie_3a[\"shutter speed (fps)\"]\n",
    "p3a_mu = df_partie_3a[\"mu (ln(I_0/I))\"]\n",
    "p3a_sigma = df_partie_3a[\"sigma\"]\n",
    "\n",
    "# Partie 3 b\n",
    "df_partie_3b = pd.read_excel(\"Projet_final.xlsx\", sheet_name=\"Partie 3b\")\n",
    "\n",
    "p3b_bruit = df_partie_3b[\"bruit (%)\"][1:8]\n",
    "p3b_mu_B = df_partie_3b[\"mu_B\"][1:8]\n",
    "p3b_sigma_B = df_partie_3b[\"sigma_B\"][1:8]\n",
    "p3b_cone_clair_mu = df_partie_3b[\"Cône clair\"][1:8]\n",
    "p3b_cone_clair_cnr = df_partie_3b[\"Unnamed: 5\"][1:8]\n",
    "p3b_cone_sombre_mu = df_partie_3b[\"Cône clair\"][1:8]\n",
    "p3b_cone_sombre_cnr = df_partie_3b[\"Unnamed: 8\"][1:8]"
   ]
  },
  {
   "cell_type": "markdown",
   "metadata": {},
   "source": [
    "## Données de la partie 4 "
   ]
  },
  {
   "cell_type": "markdown",
   "metadata": {},
   "source": [
    "### Données axe x"
   ]
  },
  {
   "cell_type": "code",
   "execution_count": 79,
   "metadata": {},
   "outputs": [],
   "source": [
    "# Données 2D\n",
    "partie4_2d_x = lire_csv(r\"partie_4\\partie4_2d_x.csv\")\n",
    "\n",
    "# Données avec filtre Ramlack\n",
    "partie4_3d_040_025_ramlack_x = lire_csv(r\"partie_4/partie4_3d_040_025_ramlack_x.csv\")\n",
    "partie4_3d_040_025_ramlack_x_v2 = lire_csv(r\"partie_4\\partie4_3d_040_025_ramlack_x_v2.csv\")\n",
    "partie4_3d_160_025_ramlack_x = lire_csv(r\"partie_4\\partie4_3d_160_025_ramlack_x.csv\")\n",
    "\n",
    "# Influence de la résolution : 0,25 ; 0,50 ; 2,00\n",
    "partie4_3d_320_025_x = lire_csv(r\"partie_4\\partie4_3d_320_025_x.csv\")\n",
    "partie4_3d_320_050_x = lire_csv(r\"partie_4\\partie4_3d_320_050_x.csv\")\n",
    "partie4_3d_320_200_x = lire_csv(r\"partie_4\\partie4_3d_320_200_x.csv\")"
   ]
  },
  {
   "cell_type": "markdown",
   "metadata": {},
   "source": [
    "### Données axe y"
   ]
  },
  {
   "cell_type": "code",
   "execution_count": 80,
   "metadata": {},
   "outputs": [],
   "source": [
    "# Données 2D\n",
    "partie4_2d_y = lire_csv(r\"partie_4\\partie4_2d_y.csv\")\n",
    "\n",
    "# Données avec filtre Ramlack\n",
    "partie4_3d_040_025_ramlack_y_v2 = lire_csv(r\"partie_4\\partie4_3d_040_025_ramlack_y_v2.csv\")\n",
    "partie4_3d_040_025_ramlack_y = lire_csv(r\"partie_4\\partie4_3d_040_025_ramlack_y.csv\")\n",
    "partie4_3d_160_025_ramlack_y = lire_csv(r\"partie_4\\partie4_3d_160_025_ramlack_y.csv\")\n",
    "\n",
    "# Données avec diaphragme\n",
    "partie4_3d_320_025_dia050_y = lire_csv(r\"partie_4\\partie4_3d_320_025_dia050_y.csv\")\n",
    "partie4_3d_320_025_dia150_y = lire_csv(r\"partie_4\\partie4_3d_320_025_dia150_y.csv\")\n",
    "\n",
    "# Données sans filtre\n",
    "partie4_3d_320_025_nofilter_y = lire_csv(r\"partie_4\\partie4_3d_320_025_nofilter_y.csv\")\n",
    "\n",
    "# Influence de la résolution : 0,25 ; 0,50 ; 2,00\n",
    "partie4_3d_320_025_y = lire_csv(r\"partie_4\\partie4_3d_320_025_y.csv\")\n",
    "partie4_3d_320_050_y = lire_csv(r\"partie_4\\partie4_3d_320_050_y.csv\")\n",
    "partie4_3d_320_200_y = lire_csv(r\"partie_4\\partie4_3d_320_200_y.csv\")"
   ]
  },
  {
   "cell_type": "code",
   "execution_count": 81,
   "metadata": {},
   "outputs": [],
   "source": [
    "def normalisation(dataframe):\n",
    "    \"\"\"Fonction qui normalise les dataframes.\n",
    "\n",
    "    Args:\n",
    "        dataframe (DataFrame)\n",
    "\n",
    "    Returns:\n",
    "        DataFrame: Dataframe normalisé.\n",
    "    \"\"\"\n",
    "    return (dataframe-min(dataframe))/np.ptp(dataframe)"
   ]
  },
  {
   "cell_type": "code",
   "execution_count": 82,
   "metadata": {},
   "outputs": [],
   "source": [
    "def figure_plot_p4(df):\n",
    "    mpl.plot(df[\"Pixels\"], normalisation(df[\"Value\"]),color=\"k\")\n",
    "    mpl.ylabel(\"Intensité normalisé [-]\")\n",
    "    mpl.xlabel(\"Position [Pixel]\")\n",
    "    mpl.legend(frameon=False) \n",
    "    mpl.tick_params(axis='both', which='both', direction='in')\n",
    "    mpl.minorticks_on()\n",
    "    mpl.show()"
   ]
  },
  {
   "cell_type": "code",
   "execution_count": 83,
   "metadata": {},
   "outputs": [
    {
     "name": "stderr",
     "output_type": "stream",
     "text": [
      "No artists with labels found to put in legend.  Note that artists whose label start with an underscore are ignored when legend() is called with no argument.\n"
     ]
    },
    {
     "data": {
      "image/png": "[encoded data removed]",
      "text/plain": [
       "<Figure size 432x288 with 1 Axes>"
      ]
     },
     "metadata": {
      "needs_background": "light"
     },
     "output_type": "display_data"
    }
   ],
   "source": [
    "figure_plot_p4(partie4_3d_160_025_ramlack_y)"
   ]
  },
  {
   "cell_type": "markdown",
   "metadata": {},
   "source": [
    "## Données de la partie 5"
   ]
  },
  {
   "cell_type": "code",
   "execution_count": 84,
   "metadata": {},
   "outputs": [],
   "source": [
    "p5_2d_320_025_bas = lire_csv(r\"partie 5\\2d_320_025_bas.csv\")\n",
    "p5_2d_320_025_haut = lire_csv(r\"partie 5\\2d_320_025_haut.csv\")\n",
    "p5_2d_320_025_milieu = lire_csv(r\"partie 5\\2d_320_025_milieu.csv\")\n",
    "p5_3d_040_025_bas = lire_csv(r\"partie 5\\3d_040_025_bas.csv\")\n",
    "p5_3d_040_025_haut = lire_csv(r\"partie 5\\3d_040_025_haut.csv\")\n",
    "p5_3d_040_025_milieu = lire_csv(r\"partie 5\\3d_040_025_milieu.csv\")\n",
    "p5_3d_160_025_bas = lire_csv(r\"partie 5\\3d_160_025_bas.csv\")\n",
    "p5_3d_160_025_haut = lire_csv(r\"partie 5\\3d_160_025_haut.csv\")\n",
    "p5_3d_160_025_milieu = lire_csv(r\"partie 5\\3d_160_025_milieu.csv\")\n",
    "p5_3d_320_025_bas = lire_csv(r\"partie 5\\3d_320_025_bas.csv\")\n",
    "p5_3d_320_025_haut = lire_csv(r\"partie 5\\3d_320_025_haut.csv\")\n",
    "p5_3d_320_025_milieu = lire_csv(r\"partie 5\\3d_320_025_milieu.csv\")\n",
    "p5_3d_320_025_dia050 = lire_csv(r\"partie 5\\3d_320_025_dia050.csv\")\n",
    "p5_3d_320_025_dia100 = lire_csv(r\"partie 5\\3d_320_025_dia100.csv\")\n",
    "p5_3d_320_025_dia150 = lire_csv(r\"partie 5\\3d_320_025_dia150.csv\")\n",
    "p5_3d_320_050_bas = lire_csv(r\"partie 5\\3d_320_050_bas.csv\")\n",
    "p5_3d_320_050_haut = lire_csv(r\"partie 5\\3d_320_050_haut.csv\")\n",
    "p5_3d_320_050_milieu = lire_csv(r\"partie 5\\3d_320_050_milieu.csv\")\n",
    "p5_3d_320_200_bas = lire_csv(r\"partie 5\\3d_320_200_bas.csv\")\n",
    "p5_3d_320_200_haut = lire_csv(r\"partie 5\\3d_320_200_haut.csv\")\n",
    "p5_3d_320_200_milieu = lire_csv(r\"partie 5\\3d_320_200_milieu.csv\")"
   ]
  }
 ],
 "metadata": {
  "kernelspec": {
   "display_name": "Python 3",
   "language": "python",
   "name": "python3"
  },
  "language_info": {
   "codemirror_mode": {
    "name": "ipython",
    "version": 3
   },
   "file_extension": ".py",
   "mimetype": "text/x-python",
   "name": "python",
   "nbconvert_exporter": "python",
   "pygments_lexer": "ipython3",
   "version": "3.10.4"
  }
 },
 "nbformat": 4,
 "nbformat_minor": 2
}
