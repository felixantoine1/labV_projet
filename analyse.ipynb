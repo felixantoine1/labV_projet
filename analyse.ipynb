{
 "cells": [
  {
   "cell_type": "code",
   "execution_count": 266,
   "metadata": {},
   "outputs": [],
   "source": [
    "import pandas as pd\n",
    "import numpy as np\n",
    "import matplotlib.pyplot as mpl\n",
    "from sklearn.metrics import r2_score\n",
    "from io import StringIO\n",
    "import glob\n",
    "import os\n",
    "import raytracing as rt\n",
    "from scipy.ndimage import gaussian_filter\n",
    "\n",
    "import scipy.optimize as spo\n",
    "import scipy.constants as spc\n",
    "import scipy.integrate as spi\n",
    "import scipy.linalg as spl\n",
    "import scipy.signal as spsi\n",
    "import scipy.stats as spst"
   ]
  },
  {
   "cell_type": "code",
   "execution_count": 267,
   "metadata": {},
   "outputs": [],
   "source": [
    "import pandas as pd\n",
    "\n",
    "def lire_csv(chemin_fichier):\n",
    "    # Lire le contenu du fichier\n",
    "    with open(chemin_fichier, 'r', encoding='utf-8') as fichier:\n",
    "        contenu = fichier.readlines()\n",
    "\n",
    "    # Prétraiter les lignes pour remplacer la virgule décimale par un point\n",
    "    # et la seconde virgule (délimiteur) par un point-virgule\n",
    "    contenu_traite = []\n",
    "    for ligne in contenu:\n",
    "        if ligne != contenu[0]:\n",
    "            # Remplacer la première virgule (décimale) par un point dans chaque partie numérique\n",
    "            partie_avant, partie_apres = ligne.split(',', 1)\n",
    "            partie_avant = partie_avant.replace(',', '.')\n",
    "            # Ajouter la ligne traitée à la liste\n",
    "            contenu_traite.append(partie_avant + partie_apres)\n",
    "        else :\n",
    "            contenu_traite.append(ligne)\n",
    "        \n",
    "\n",
    "    # Convertir le contenu traité en un seul texte\n",
    "    contenu_traite_str = ''.join(contenu_traite)\n",
    "\n",
    "    # Utiliser pandas pour lire la chaîne traitée comme un fichier CSV\n",
    "    from io import StringIO\n",
    "    df = pd.read_csv(StringIO(contenu_traite_str), delimiter=',')\n",
    "\n",
    "    return df"
   ]
  },
  {
   "cell_type": "code",
   "execution_count": 268,
   "metadata": {},
   "outputs": [],
   "source": [
    "def lire_csv(chemin_fichier):\n",
    "    # Lire le fichier en ignorant la première ligne\n",
    "    with open(chemin_fichier, 'r', encoding='utf-8') as fichier:\n",
    "        lignes = fichier.readlines()[1:]  # Ignorer la première ligne\n",
    "    \n",
    "    # Préparer le contenu transformé\n",
    "    contenu_transforme = []\n",
    "    for ligne in lignes:\n",
    "        partie_gauche, _, partie_droite = ligne.partition(', ')  # Séparer à la première virgule\n",
    "        partie_gauche, partie_droite = partie_gauche.replace(',', '.'), partie_droite.replace(',', '.')   # Au cas où, mais devrait être inutile ici\n",
    "        ligne_transformee = partie_gauche + ';' + partie_droite\n",
    "        contenu_transforme.append(ligne_transformee)\n",
    "    \n",
    "    # Convertir le contenu transformé en un objet StringIO\n",
    "    contenu_csv = StringIO(''.join(contenu_transforme))\n",
    "    \n",
    "    # Lire le contenu transformé en DataFrame\n",
    "    df = pd.read_csv(contenu_csv, names=['Pixels', 'Value'],sep=\";\")\n",
    "    return df"
   ]
  },
  {
   "cell_type": "markdown",
   "metadata": {},
   "source": [
    "## Données de la partie 1"
   ]
  },
  {
   "cell_type": "code",
   "execution_count": 269,
   "metadata": {},
   "outputs": [
    {
     "name": "stdout",
     "output_type": "stream",
     "text": [
      "   Unnamed: 0  Volume solution ajoutée (ml)    2D \\mu  3D \\mu  3D \\sigma  \\\n",
      "0         NaN                             0  0.000257  0.0004     0.0006   \n",
      "1         NaN                             1  0.102100  0.0865     0.0023   \n",
      "2         NaN                             2  0.189643  0.1582     0.0030   \n",
      "3         NaN                             3  0.269200  0.2167     0.0046   \n",
      "4         NaN                             5  0.366271  0.2707     0.0087   \n",
      "5         NaN                             7  0.415643  0.2792     0.0122   \n",
      "6         NaN                             9  0.438200  0.2737     0.0145   \n",
      "7         NaN                            11  0.449114  0.2678     0.0159   \n",
      "8         NaN                            13  0.454529  0.2618     0.0167   \n",
      "9         NaN                            15  0.458900  0.2581     0.0173   \n",
      "\n",
      "   2D ln(I_0/I)  2D \\sigma \\ln(I_0/I)  Unnamed: 7  \n",
      "0        0.0018                0.0021         NaN  \n",
      "1        0.7147                0.0069      0.7216  \n",
      "2        1.3275                0.0064      1.3339  \n",
      "3        1.8844                0.0092      1.8936  \n",
      "4        2.5639                0.0134      2.5773  \n",
      "5        2.9095                0.0177      2.9272  \n",
      "6        3.0674                0.0203      3.0877  \n",
      "7        3.1438                0.0222      3.1660  \n",
      "8        3.1817                0.0230      3.2047  \n",
      "9        3.2123                0.0234      3.2357  \n"
     ]
    }
   ],
   "source": [
    "df_partie_1 = pd.read_excel(\"Projet_final.xlsx\")\n",
    "print(df_partie_1)"
   ]
  },
  {
   "cell_type": "code",
   "execution_count": 270,
   "metadata": {},
   "outputs": [],
   "source": [
    "Volume = [0,1,2,3,5,7,9,11,13,15]\n",
    "mu_2d = [0.0003,0.1021,0.1896,0.2692,0.3663,0.4156,0.4382,0.4491,0.4545,0.4589]\n",
    "mu_3d = [0.0004,0.0865,0.1582,2167,0.2707,0.2792,0.2737,0.2678]"
   ]
  },
  {
   "cell_type": "markdown",
   "metadata": {},
   "source": [
    "## Données de la partie 2"
   ]
  },
  {
   "cell_type": "code",
   "execution_count": null,
   "metadata": {},
   "outputs": [],
   "source": []
  },
  {
   "cell_type": "markdown",
   "metadata": {},
   "source": [
    "## Données de la partie 3"
   ]
  },
  {
   "cell_type": "code",
   "execution_count": null,
   "metadata": {},
   "outputs": [],
   "source": []
  },
  {
   "cell_type": "markdown",
   "metadata": {},
   "source": [
    "## Données de la partie 4 "
   ]
  },
  {
   "cell_type": "code",
   "execution_count": 271,
   "metadata": {},
   "outputs": [],
   "source": [
    "partie4_2d_x = lire_csv(r\"partie_4\\partie4_2d_x.csv\")\n",
    "partie4_2d_y = lire_csv(r\"partie_4\\partie4_2d_y.csv\")\n",
    "partie4_3d_040_025_ramlack_x = lire_csv(r\"partie_4/partie4_3d_040_025_ramlack_x.csv\")\n",
    "partie4_3d_040_025_ramlack_x_v2 = lire_csv(r\"partie_4\\partie4_3d_040_025_ramlack_x_v2.csv\")\n",
    "partie4_3d_040_025_ramlack_y_v2 = lire_csv(r\"partie_4\\partie4_3d_040_025_ramlack_y_v2.csv\")\n",
    "partie4_3d_040_025_ramlack_y = lire_csv(r\"partie_4\\partie4_3d_040_025_ramlack_y.csv\")\n",
    "partie4_3d_160_025_ramlack_x = lire_csv(r\"partie_4\\partie4_3d_160_025_ramlack_x.csv\")\n",
    "partie4_3d_160_025_ramlack_y = lire_csv(r\"partie_4\\partie4_3d_160_025_ramlack_y.csv\")\n",
    "partie4_3d_320_025_dia050_y = lire_csv(r\"partie_4\\partie4_3d_320_025_dia050_y.csv\")\n",
    "partie4_3d_320_025_dia150_y = lire_csv(r\"partie_4\\partie4_3d_320_025_dia150_y.csv\")\n",
    "partie4_3d_320_025_nofilter_y = lire_csv(r\"partie_4\\partie4_3d_320_025_nofilter_y.csv\")\n",
    "partie4_3d_320_025_x = lire_csv(r\"partie_4\\partie4_3d_320_025_x.csv\")\n",
    "partie4_3d_320_025_y = lire_csv(r\"partie_4\\partie4_3d_320_025_y.csv\")\n",
    "partie4_3d_320_050_x = lire_csv(r\"partie_4\\partie4_3d_320_050_x.csv\")\n",
    "partie4_3d_320_050_y = lire_csv(r\"partie_4\\partie4_3d_320_050_y.csv\")\n",
    "partie4_3d_320_200_x = lire_csv(r\"partie_4\\partie4_3d_320_200_x.csv\")\n",
    "partie4_3d_320_200_y = lire_csv(r\"partie_4\\partie4_3d_320_200_y.csv\")"
   ]
  },
  {
   "cell_type": "markdown",
   "metadata": {},
   "source": [
    "## Données de la partie 5"
   ]
  },
  {
   "cell_type": "code",
   "execution_count": 272,
   "metadata": {},
   "outputs": [],
   "source": [
    "p5_2d_320_025_bas = lire_csv(r\"partie 5\\2d_320_025_bas.csv\")\n",
    "p5_2d_320_025_haut = lire_csv(r\"partie 5\\2d_320_025_haut.csv\")\n",
    "p5_2d_320_025_milieu = lire_csv(r\"partie 5\\2d_320_025_milieu.csv\")\n",
    "p5_3d_040_025_bas = lire_csv(r\"partie 5\\3d_040_025_bas.csv\")\n",
    "p5_3d_040_025_haut = lire_csv(r\"partie 5\\3d_040_025_haut.csv\")\n",
    "p5_3d_040_025_milieu = lire_csv(r\"partie 5\\3d_040_025_milieu.csv\")\n",
    "p5_3d_160_025_bas = lire_csv(r\"partie 5\\3d_160_025_bas.csv\")\n",
    "p5_3d_160_025_haut = lire_csv(r\"partie 5\\3d_160_025_haut.csv\")\n",
    "p5_3d_160_025_milieu = lire_csv(r\"partie 5\\3d_160_025_milieu.csv\")\n",
    "p5_3d_320_025_bas = lire_csv(r\"partie 5\\3d_320_025_bas.csv\")\n",
    "p5_3d_320_025_haut = lire_csv(r\"partie 5\\3d_320_025_haut.csv\")\n",
    "p5_3d_320_025_milieu = lire_csv(r\"partie 5\\3d_320_025_milieu.csv\")\n",
    "p5_3d_320_025_dia050 = lire_csv(r\"partie 5\\3d_320_025_dia050.csv\")\n",
    "p5_3d_320_025_dia100 = lire_csv(r\"partie 5\\3d_320_025_dia100.csv\")\n",
    "p5_3d_320_025_dia150 = lire_csv(r\"partie 5\\3d_320_025_dia150.csv\")\n",
    "p5_3d_320_050_bas = lire_csv(r\"partie 5\\3d_320_050_bas.csv\")\n",
    "p5_3d_320_050_haut = lire_csv(r\"partie 5\\3d_320_050_haut.csv\")\n",
    "p5_3d_320_050_milieu = lire_csv(r\"partie 5\\3d_320_050_milieu.csv\")\n",
    "p5_3d_320_200_bas = lire_csv(r\"partie 5\\3d_320_200_bas.csv\")\n",
    "p5_3d_320_200_haut = lire_csv(r\"partie 5\\3d_320_200_haut.csv\")\n",
    "p5_3d_320_200_milieu = lire_csv(r\"partie 5\\3d_320_200_milieu.csv\")"
   ]
  }
 ],
 "metadata": {
  "kernelspec": {
   "display_name": "Python 3",
   "language": "python",
   "name": "python3"
  },
  "language_info": {
   "codemirror_mode": {
    "name": "ipython",
    "version": 3
   },
   "file_extension": ".py",
   "mimetype": "text/x-python",
   "name": "python",
   "nbconvert_exporter": "python",
   "pygments_lexer": "ipython3",
   "version": "3.10.4"
  }
 },
 "nbformat": 4,
 "nbformat_minor": 2
}
