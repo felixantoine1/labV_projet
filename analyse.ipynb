{
 "cells": [
  {
   "cell_type": "code",
   "execution_count": 259,
   "metadata": {},
   "outputs": [],
   "source": [
    "import pandas as pd\n",
    "import numpy as np\n",
    "import matplotlib.pyplot as mpl\n",
    "from sklearn.metrics import r2_score\n",
    "from io import StringIO\n",
    "import glob\n",
    "import os\n",
    "import raytracing as rt\n",
    "from scipy.ndimage import gaussian_filter\n",
    "\n",
    "import scipy.optimize as spo\n",
    "import scipy.constants as spc\n",
    "import scipy.integrate as spi\n",
    "import scipy.linalg as spl\n",
    "import scipy.signal as spsi\n",
    "import scipy.stats as spst"
   ]
  },
  {
   "cell_type": "code",
   "execution_count": 260,
   "metadata": {},
   "outputs": [],
   "source": [
    "import pandas as pd\n",
    "\n",
    "def lire_csv(chemin_fichier):\n",
    "    # Lire le contenu du fichier\n",
    "    with open(chemin_fichier, 'r', encoding='utf-8') as fichier:\n",
    "        contenu = fichier.readlines()\n",
    "\n",
    "    # Prétraiter les lignes pour remplacer la virgule décimale par un point\n",
    "    # et la seconde virgule (délimiteur) par un point-virgule\n",
    "    contenu_traite = []\n",
    "    for ligne in contenu:\n",
    "        if ligne != contenu[0]:\n",
    "            # Remplacer la première virgule (décimale) par un point dans chaque partie numérique\n",
    "            partie_avant, partie_apres = ligne.split(',', 1)\n",
    "            partie_avant = partie_avant.replace(',', '.')\n",
    "            # Ajouter la ligne traitée à la liste\n",
    "            contenu_traite.append(partie_avant + partie_apres)\n",
    "        else :\n",
    "            contenu_traite.append(ligne)\n",
    "        \n",
    "\n",
    "    # Convertir le contenu traité en un seul texte\n",
    "    contenu_traite_str = ''.join(contenu_traite)\n",
    "\n",
    "    # Utiliser pandas pour lire la chaîne traitée comme un fichier CSV\n",
    "    from io import StringIO\n",
    "    df = pd.read_csv(StringIO(contenu_traite_str), delimiter=',')\n",
    "\n",
    "    return df"
   ]
  },
  {
   "cell_type": "code",
   "execution_count": 261,
   "metadata": {},
   "outputs": [],
   "source": [
    "def lire_csv(chemin_fichier):\n",
    "    # Lire le fichier en ignorant la première ligne\n",
    "    with open(chemin_fichier, 'r', encoding='utf-8') as fichier:\n",
    "        lignes = fichier.readlines()[1:]  # Ignorer la première ligne\n",
    "    \n",
    "    # Préparer le contenu transformé\n",
    "    contenu_transforme = []\n",
    "    for ligne in lignes:\n",
    "        partie_gauche, _, partie_droite = ligne.partition(', ')  # Séparer à la première virgule\n",
    "        partie_gauche, partie_droite = partie_gauche.replace(',', '.'), partie_droite.replace(',', '.')   # Au cas où, mais devrait être inutile ici\n",
    "        ligne_transformee = partie_gauche + ';' + partie_droite\n",
    "        contenu_transforme.append(ligne_transformee)\n",
    "    \n",
    "    # Convertir le contenu transformé en un objet StringIO\n",
    "    contenu_csv = StringIO(''.join(contenu_transforme))\n",
    "    \n",
    "    # Lire le contenu transformé en DataFrame\n",
    "    df = pd.read_csv(contenu_csv, names=['Pixels', 'Value'],sep=\";\")\n",
    "    return df"
   ]
  },
  {
   "cell_type": "markdown",
   "metadata": {},
   "source": [
    "## Données de la partie 1"
   ]
  },
  {
   "cell_type": "code",
   "execution_count": null,
   "metadata": {},
   "outputs": [],
   "source": [
    "Volume = [0,1,2,3,5,7,9,11,13,15]\n",
    "mu_2d = [0.0003,0.1021,0.1896,0.2692,0.3663,0.4156,0.4382,0.4491,0.4545,0.4589]\n",
    "mu_3d = [0.0004,0.0865,0.1582,2167,0.2707,0.2792,0.2737,0.2678]"
   ]
  },
  {
   "cell_type": "markdown",
   "metadata": {},
   "source": [
    "## Données de la partie 2"
   ]
  },
  {
   "cell_type": "code",
   "execution_count": null,
   "metadata": {},
   "outputs": [],
   "source": []
  },
  {
   "cell_type": "markdown",
   "metadata": {},
   "source": [
    "## Données de la partie 3"
   ]
  },
  {
   "cell_type": "code",
   "execution_count": null,
   "metadata": {},
   "outputs": [],
   "source": []
  },
  {
   "cell_type": "markdown",
   "metadata": {},
   "source": [
    "## Données de la partie 4 "
   ]
  },
  {
   "cell_type": "code",
   "execution_count": 262,
   "metadata": {},
   "outputs": [],
   "source": [
    "partie4_2d_x = lire_csv(r\"partie_4\\partie4_2d_x.csv\")\n",
    "partie4_2d_y = lire_csv(r\"partie_4\\partie4_2d_y.csv\")\n",
    "partie4_3d_040_025_ramlack_x = lire_csv(r\"partie_4/partie4_3d_040_025_ramlack_x.csv\")\n",
    "partie4_3d_040_025_ramlack_x_v2 = lire_csv(r\"partie_4\\partie4_3d_040_025_ramlack_x_v2.csv\")\n",
    "partie4_3d_040_025_ramlack_y_v2 = lire_csv(r\"partie_4\\partie4_3d_040_025_ramlack_y_v2.csv\")\n",
    "partie4_3d_040_025_ramlack_y = lire_csv(r\"partie_4\\partie4_3d_040_025_ramlack_y.csv\")\n",
    "partie4_3d_160_025_ramlack_x = lire_csv(r\"partie_4\\partie4_3d_160_025_ramlack_x.csv\")\n",
    "partie4_3d_160_025_ramlack_y = lire_csv(r\"partie_4\\partie4_3d_160_025_ramlack_y.csv\")\n",
    "partie4_3d_320_025_dia050_y = lire_csv(r\"partie_4\\partie4_3d_320_025_dia050_y.csv\")\n",
    "partie4_3d_320_025_dia150_y = lire_csv(r\"partie_4\\partie4_3d_320_025_dia150_y.csv\")\n",
    "partie4_3d_320_025_nofilter_y = lire_csv(r\"partie_4\\partie4_3d_320_025_nofilter_y.csv\")\n",
    "partie4_3d_320_025_x = lire_csv(r\"partie_4\\partie4_3d_320_025_x.csv\")\n",
    "partie4_3d_320_025_y = lire_csv(r\"partie_4\\partie4_3d_320_025_y.csv\")\n",
    "partie4_3d_320_050_x = lire_csv(r\"partie_4\\partie4_3d_320_050_x.csv\")\n",
    "partie4_3d_320_050_y = lire_csv(r\"partie_4\\partie4_3d_320_050_y.csv\")\n",
    "partie4_3d_320_200_x = lire_csv(r\"partie_4\\partie4_3d_320_200_x.csv\")\n",
    "partie4_3d_320_200_y = lire_csv(r\"partie_4\\partie4_3d_320_200_y.csv\")"
   ]
  },
  {
   "cell_type": "markdown",
   "metadata": {},
   "source": [
    "## Données de la partie 5"
   ]
  },
  {
   "cell_type": "code",
   "execution_count": 263,
   "metadata": {},
   "outputs": [],
   "source": [
    "p5_2d_320_025_bas = lire_csv(r\"partie 5\\2d_320_025_bas.csv\")\n",
    "p5_2d_320_025_haut = lire_csv(r\"partie 5\\2d_320_025_haut.csv\")\n",
    "p5_2d_320_025_milieu = lire_csv(r\"partie 5\\2d_320_025_milieu.csv\")\n",
    "p5_3d_040_025_bas = lire_csv(r\"partie 5\\3d_040_025_bas.csv\")\n",
    "p5_3d_040_025_haut = lire_csv(r\"partie 5\\3d_040_025_haut.csv\")\n",
    "p5_3d_040_025_milieu = lire_csv(r\"partie 5\\3d_040_025_milieu.csv\")\n",
    "p5_3d_160_025_bas = lire_csv(r\"partie 5\\3d_160_025_bas.csv\")\n",
    "p5_3d_160_025_haut = lire_csv(r\"partie 5\\3d_160_025_haut.csv\")\n",
    "p5_3d_160_025_milieu = lire_csv(r\"partie 5\\3d_160_025_milieu.csv\")\n",
    "p5_3d_320_025_bas = lire_csv(r\"partie 5\\3d_320_025_bas.csv\")\n",
    "p5_3d_320_025_haut = lire_csv(r\"partie 5\\3d_320_025_haut.csv\")\n",
    "p5_3d_320_025_milieu = lire_csv(r\"partie 5\\3d_320_025_milieu.csv\")\n",
    "p5_3d_320_025_dia050 = lire_csv(r\"partie 5\\3d_320_025_dia050.csv\")\n",
    "p5_3d_320_025_dia100 = lire_csv(r\"partie 5\\3d_320_025_dia100.csv\")\n",
    "p5_3d_320_025_dia150 = lire_csv(r\"partie 5\\3d_320_025_dia150.csv\")\n",
    "p5_3d_320_050_bas = lire_csv(r\"partie 5\\3d_320_050_bas.csv\")\n",
    "p5_3d_320_050_haut = lire_csv(r\"partie 5\\3d_320_050_haut.csv\")\n",
    "p5_3d_320_050_milieu = lire_csv(r\"partie 5\\3d_320_050_milieu.csv\")\n",
    "p5_3d_320_200_bas = lire_csv(r\"partie 5\\3d_320_200_bas.csv\")\n",
    "p5_3d_320_200_haut = lire_csv(r\"partie 5\\3d_320_200_haut.csv\")\n",
    "p5_3d_320_200_milieu = lire_csv(r\"partie 5\\3d_320_200_milieu.csv\")"
   ]
  }
 ],
 "metadata": {
  "kernelspec": {
   "display_name": "Python 3",
   "language": "python",
   "name": "python3"
  },
  "language_info": {
   "codemirror_mode": {
    "name": "ipython",
    "version": 3
   },
   "file_extension": ".py",
   "mimetype": "text/x-python",
   "name": "python",
   "nbconvert_exporter": "python",
   "pygments_lexer": "ipython3",
   "version": "3.10.4"
  }
 },
 "nbformat": 4,
 "nbformat_minor": 2
}
