{
 "cells": [
  {
   "cell_type": "code",
   "execution_count": 294,
   "metadata": {},
   "outputs": [],
   "source": [
    "import pandas as pd\n",
    "import numpy as np\n",
    "import matplotlib.pyplot as mpl\n",
    "from sklearn.metrics import r2_score\n",
    "from io import StringIO\n",
    "import glob\n",
    "import os\n",
    "import raytracing as rt\n",
    "from scipy.ndimage import gaussian_filter\n",
    "\n",
    "import scipy.optimize as spo\n",
    "import scipy.constants as spc\n",
    "import scipy.integrate as spi\n",
    "import scipy.linalg as spl\n",
    "import scipy.signal as spsi\n",
    "import scipy.stats as spst"
   ]
  },
  {
   "cell_type": "code",
   "execution_count": 295,
   "metadata": {},
   "outputs": [],
   "source": [
    "import pandas as pd\n",
    "\n",
    "def lire_csv(chemin_fichier):\n",
    "    # Lire le contenu du fichier\n",
    "    with open(chemin_fichier, 'r', encoding='utf-8') as fichier:\n",
    "        contenu = fichier.readlines()\n",
    "\n",
    "    # Prétraiter les lignes pour remplacer la virgule décimale par un point\n",
    "    # et la seconde virgule (délimiteur) par un point-virgule\n",
    "    contenu_traite = []\n",
    "    for ligne in contenu:\n",
    "        if ligne != contenu[0]:\n",
    "            # Remplacer la première virgule (décimale) par un point dans chaque partie numérique\n",
    "            partie_avant, partie_apres = ligne.split(',', 1)\n",
    "            partie_avant = partie_avant.replace(',', '.')\n",
    "            # Ajouter la ligne traitée à la liste\n",
    "            contenu_traite.append(partie_avant + partie_apres)\n",
    "        else :\n",
    "            contenu_traite.append(ligne)\n",
    "        \n",
    "\n",
    "    # Convertir le contenu traité en un seul texte\n",
    "    contenu_traite_str = ''.join(contenu_traite)\n",
    "\n",
    "    # Utiliser pandas pour lire la chaîne traitée comme un fichier CSV\n",
    "    from io import StringIO\n",
    "    df = pd.read_csv(StringIO(contenu_traite_str), delimiter=',')\n",
    "\n",
    "    return df"
   ]
  },
  {
   "cell_type": "code",
   "execution_count": 296,
   "metadata": {},
   "outputs": [],
   "source": [
    "def lire_csv(chemin_fichier):\n",
    "    # Lire le fichier en ignorant la première ligne\n",
    "    with open(chemin_fichier, 'r', encoding='utf-8') as fichier:\n",
    "        lignes = fichier.readlines()[1:]  # Ignorer la première ligne\n",
    "    \n",
    "    # Préparer le contenu transformé\n",
    "    contenu_transforme = []\n",
    "    for ligne in lignes:\n",
    "        partie_gauche, _, partie_droite = ligne.partition(', ')  # Séparer à la première virgule\n",
    "        partie_gauche, partie_droite = partie_gauche.replace(',', '.'), partie_droite.replace(',', '.')   # Au cas où, mais devrait être inutile ici\n",
    "        ligne_transformee = partie_gauche + ';' + partie_droite\n",
    "        contenu_transforme.append(ligne_transformee)\n",
    "    \n",
    "    # Convertir le contenu transformé en un objet StringIO\n",
    "    contenu_csv = StringIO(''.join(contenu_transforme))\n",
    "    \n",
    "    # Lire le contenu transformé en DataFrame\n",
    "    df = pd.read_csv(contenu_csv, names=['Pixels', 'Value'],sep=\";\")\n",
    "    return df"
   ]
  },
  {
   "cell_type": "markdown",
   "metadata": {},
   "source": [
    "## Données de la partie 1"
   ]
  },
  {
   "cell_type": "code",
   "execution_count": 297,
   "metadata": {},
   "outputs": [
    {
     "name": "stdout",
     "output_type": "stream",
     "text": [
      "   Volume solution ajoutée (ml)    2D \\mu  3D \\mu  3D \\sigma  2D ln(I_0/I)  \\\n",
      "0                             0  0.000257  0.0004     0.0006        0.0018   \n",
      "1                             1  0.102100  0.0865     0.0023        0.7147   \n",
      "2                             2  0.189643  0.1582     0.0030        1.3275   \n",
      "3                             3  0.269200  0.2167     0.0046        1.8844   \n",
      "4                             5  0.366271  0.2707     0.0087        2.5639   \n",
      "5                             7  0.415643  0.2792     0.0122        2.9095   \n",
      "6                             9  0.438200  0.2737     0.0145        3.0674   \n",
      "7                            11  0.449114  0.2678     0.0159        3.1438   \n",
      "8                            13  0.454529  0.2618     0.0167        3.1817   \n",
      "9                            15  0.458900  0.2581     0.0173        3.2123   \n",
      "\n",
      "   2D \\sigma \\ln(I_0/I)  Unnamed: 6  Unnamed: 7  \n",
      "0                0.0021         NaN         NaN  \n",
      "1                0.0069         NaN      0.7216  \n",
      "2                0.0064         NaN      1.3339  \n",
      "3                0.0092         NaN      1.8936  \n",
      "4                0.0134         NaN      2.5773  \n",
      "5                0.0177         NaN      2.9272  \n",
      "6                0.0203         NaN      3.0877  \n",
      "7                0.0222         NaN      3.1660  \n",
      "8                0.0230         NaN      3.2047  \n",
      "9                0.0234         NaN      3.2357  \n"
     ]
    }
   ],
   "source": [
    "df_partie_1 = pd.read_excel(\"Projet_final.xlsx\", sheet_name=\"Partie 1\")\n",
    "print(df_partie_1)"
   ]
  },
  {
   "cell_type": "code",
   "execution_count": 298,
   "metadata": {},
   "outputs": [],
   "source": [
    "Volume = [0,1,2,3,5,7,9,11,13,15]\n",
    "mu_2d = [0.0003,0.1021,0.1896,0.2692,0.3663,0.4156,0.4382,0.4491,0.4545,0.4589]\n",
    "mu_3d = [0.0004,0.0865,0.1582,2167,0.2707,0.2792,0.2737,0.2678]"
   ]
  },
  {
   "cell_type": "markdown",
   "metadata": {},
   "source": [
    "## Données de la partie 2"
   ]
  },
  {
   "cell_type": "code",
   "execution_count": 299,
   "metadata": {},
   "outputs": [
    {
     "name": "stdout",
     "output_type": "stream",
     "text": [
      "  Unnamed: 0 Ouverture de la fente doigt 1 (plus gros) Unnamed: 3 doigt 2  \\\n",
      "0        NaN                   NaN                  mu      sigma      mu   \n",
      "1        NaN        pas de fenêtre              0.8061     0.0248  0.8142   \n",
      "2      ± 0,2                   1.5              0.9016     0.0191  0.9145   \n",
      "3      ± 0,1                     1              0.9842     0.0214  1.0042   \n",
      "4      ± 0,1                   0.5                1.11     0.0254  1.1544   \n",
      "\n",
      "  Unnamed: 5 doigt 3 Unnamed: 7 doigt 4 (plus petit) Unnamed: 9  \n",
      "0      sigma      mu      sigma                   mu      sigma  \n",
      "1     0.0097     0.8     0.0082               0.8244     0.0065  \n",
      "2      0.011  0.9017     0.0132               0.9316     0.0085  \n",
      "3     0.0151  0.9976     0.0133               0.9932     0.0622  \n",
      "4     0.0247  1.1639     0.0232               1.2466     0.0257  \n"
     ]
    }
   ],
   "source": [
    "df_partie_2 = pd.read_excel(\"Projet_final.xlsx\", sheet_name=\"Partie 2\")\n",
    "print(df_partie_2)"
   ]
  },
  {
   "cell_type": "markdown",
   "metadata": {},
   "source": [
    "## Données de la partie 3"
   ]
  },
  {
   "cell_type": "code",
   "execution_count": 300,
   "metadata": {},
   "outputs": [
    {
     "name": "stdout",
     "output_type": "stream",
     "text": [
      "       ms  shutter speed (fps)  mu (ln(I_0/I))   sigma\n",
      "0   79.57                12.53          0.0000  0.0000\n",
      "1   67.22                14.83          0.0581  0.0028\n",
      "2   62.91                15.96          0.1166  0.0038\n",
      "3   57.35                17.39          0.2008  0.0034\n",
      "4   51.98                19.18          0.2910  0.0040\n",
      "5   46.92                21.22          0.3883  0.0040\n",
      "6   40.55                24.56          0.5261  0.0043\n",
      "7   37.42                26.60          0.6022  0.0045\n",
      "8   33.86                29.41          0.6985  0.0044\n",
      "9    1.68                30.43          2.8996  0.0124\n",
      "10   5.24                30.43          2.2646  0.0067\n",
      "11   8.15                30.43          1.9427  0.0061\n",
      "12  13.65                30.43          1.5136  0.0054\n",
      "13  18.51                30.43          1.2503  0.0052\n",
      "14  24.32                30.43          1.0029  0.0046\n",
      "   Unnamed: 0  bruit (%)    mu_B  sigma_B Cône clair  Unnamed: 5  Unnamed: 6  \\\n",
      "0         NaN        NaN     NaN      NaN       mu_0         NaN         CNR   \n",
      "1         NaN        0.0  0.0018   0.0036     0.9436         0.0  261.611111   \n",
      "2         NaN        1.0  0.0027   0.0048     0.9444         1.0    196.1875   \n",
      "3         NaN        2.0  0.0045   0.0078     0.9045         2.0  115.384615   \n",
      "4         NaN        3.0  0.0067   0.0112     0.9996         3.0   88.651786   \n",
      "5         NaN        6.0  0.0138   0.0223     1.4839         6.0   65.923767   \n",
      "6         NaN       10.0  0.0331   0.0554     2.1359        10.0   37.956679   \n",
      "7         NaN       20.0  0.1498   0.2285      1.822        20.0    7.318162   \n",
      "\n",
      "  Cöne sombre  Unnamed: 8 Unnamed: 9  \n",
      "0        mu_0         NaN        CNR  \n",
      "1      0.1621         0.0  44.527778  \n",
      "2      0.1579         1.0  32.333333  \n",
      "3      0.1561         2.0  19.435897  \n",
      "4      0.1547         3.0  13.214286  \n",
      "5       0.199         6.0   8.304933  \n",
      "6      0.2612        10.0   4.117329  \n",
      "7      0.3763        20.0   0.991247  \n"
     ]
    }
   ],
   "source": [
    "df_partie_3a = pd.read_excel(\"Projet_final.xlsx\", sheet_name=\"Partie 3a\")\n",
    "df_partie_3b = pd.read_excel(\"Projet_final.xlsx\", sheet_name=\"Partie 3b\")\n",
    "print(df_partie_3a)\n",
    "print(df_partie_3b)"
   ]
  },
  {
   "cell_type": "markdown",
   "metadata": {},
   "source": [
    "## Données de la partie 4 "
   ]
  },
  {
   "cell_type": "code",
   "execution_count": 301,
   "metadata": {},
   "outputs": [],
   "source": [
    "partie4_2d_x = lire_csv(r\"partie_4\\partie4_2d_x.csv\")\n",
    "partie4_2d_y = lire_csv(r\"partie_4\\partie4_2d_y.csv\")\n",
    "partie4_3d_040_025_ramlack_x = lire_csv(r\"partie_4/partie4_3d_040_025_ramlack_x.csv\")\n",
    "partie4_3d_040_025_ramlack_x_v2 = lire_csv(r\"partie_4\\partie4_3d_040_025_ramlack_x_v2.csv\")\n",
    "partie4_3d_040_025_ramlack_y_v2 = lire_csv(r\"partie_4\\partie4_3d_040_025_ramlack_y_v2.csv\")\n",
    "partie4_3d_040_025_ramlack_y = lire_csv(r\"partie_4\\partie4_3d_040_025_ramlack_y.csv\")\n",
    "partie4_3d_160_025_ramlack_x = lire_csv(r\"partie_4\\partie4_3d_160_025_ramlack_x.csv\")\n",
    "partie4_3d_160_025_ramlack_y = lire_csv(r\"partie_4\\partie4_3d_160_025_ramlack_y.csv\")\n",
    "partie4_3d_320_025_dia050_y = lire_csv(r\"partie_4\\partie4_3d_320_025_dia050_y.csv\")\n",
    "partie4_3d_320_025_dia150_y = lire_csv(r\"partie_4\\partie4_3d_320_025_dia150_y.csv\")\n",
    "partie4_3d_320_025_nofilter_y = lire_csv(r\"partie_4\\partie4_3d_320_025_nofilter_y.csv\")\n",
    "partie4_3d_320_025_x = lire_csv(r\"partie_4\\partie4_3d_320_025_x.csv\")\n",
    "partie4_3d_320_025_y = lire_csv(r\"partie_4\\partie4_3d_320_025_y.csv\")\n",
    "partie4_3d_320_050_x = lire_csv(r\"partie_4\\partie4_3d_320_050_x.csv\")\n",
    "partie4_3d_320_050_y = lire_csv(r\"partie_4\\partie4_3d_320_050_y.csv\")\n",
    "partie4_3d_320_200_x = lire_csv(r\"partie_4\\partie4_3d_320_200_x.csv\")\n",
    "partie4_3d_320_200_y = lire_csv(r\"partie_4\\partie4_3d_320_200_y.csv\")"
   ]
  },
  {
   "cell_type": "markdown",
   "metadata": {},
   "source": [
    "## Données de la partie 5"
   ]
  },
  {
   "cell_type": "code",
   "execution_count": 302,
   "metadata": {},
   "outputs": [],
   "source": [
    "p5_2d_320_025_bas = lire_csv(r\"partie 5\\2d_320_025_bas.csv\")\n",
    "p5_2d_320_025_haut = lire_csv(r\"partie 5\\2d_320_025_haut.csv\")\n",
    "p5_2d_320_025_milieu = lire_csv(r\"partie 5\\2d_320_025_milieu.csv\")\n",
    "p5_3d_040_025_bas = lire_csv(r\"partie 5\\3d_040_025_bas.csv\")\n",
    "p5_3d_040_025_haut = lire_csv(r\"partie 5\\3d_040_025_haut.csv\")\n",
    "p5_3d_040_025_milieu = lire_csv(r\"partie 5\\3d_040_025_milieu.csv\")\n",
    "p5_3d_160_025_bas = lire_csv(r\"partie 5\\3d_160_025_bas.csv\")\n",
    "p5_3d_160_025_haut = lire_csv(r\"partie 5\\3d_160_025_haut.csv\")\n",
    "p5_3d_160_025_milieu = lire_csv(r\"partie 5\\3d_160_025_milieu.csv\")\n",
    "p5_3d_320_025_bas = lire_csv(r\"partie 5\\3d_320_025_bas.csv\")\n",
    "p5_3d_320_025_haut = lire_csv(r\"partie 5\\3d_320_025_haut.csv\")\n",
    "p5_3d_320_025_milieu = lire_csv(r\"partie 5\\3d_320_025_milieu.csv\")\n",
    "p5_3d_320_025_dia050 = lire_csv(r\"partie 5\\3d_320_025_dia050.csv\")\n",
    "p5_3d_320_025_dia100 = lire_csv(r\"partie 5\\3d_320_025_dia100.csv\")\n",
    "p5_3d_320_025_dia150 = lire_csv(r\"partie 5\\3d_320_025_dia150.csv\")\n",
    "p5_3d_320_050_bas = lire_csv(r\"partie 5\\3d_320_050_bas.csv\")\n",
    "p5_3d_320_050_haut = lire_csv(r\"partie 5\\3d_320_050_haut.csv\")\n",
    "p5_3d_320_050_milieu = lire_csv(r\"partie 5\\3d_320_050_milieu.csv\")\n",
    "p5_3d_320_200_bas = lire_csv(r\"partie 5\\3d_320_200_bas.csv\")\n",
    "p5_3d_320_200_haut = lire_csv(r\"partie 5\\3d_320_200_haut.csv\")\n",
    "p5_3d_320_200_milieu = lire_csv(r\"partie 5\\3d_320_200_milieu.csv\")"
   ]
  }
 ],
 "metadata": {
  "kernelspec": {
   "display_name": "Python 3",
   "language": "python",
   "name": "python3"
  },
  "language_info": {
   "codemirror_mode": {
    "name": "ipython",
    "version": 3
   },
   "file_extension": ".py",
   "mimetype": "text/x-python",
   "name": "python",
   "nbconvert_exporter": "python",
   "pygments_lexer": "ipython3",
   "version": "3.10.4"
  }
 },
 "nbformat": 4,
 "nbformat_minor": 2
}
