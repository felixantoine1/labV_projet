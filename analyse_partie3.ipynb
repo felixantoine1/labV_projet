{
 "cells": [
  {
   "cell_type": "code",
   "execution_count": null,
   "metadata": {},
   "outputs": [],
   "source": [
    "import pandas as pd\n",
    "import numpy as np\n",
    "import matplotlib.pyplot as mpl\n",
    "from sklearn.metrics import r2_score\n",
    "from io import StringIO\n",
    "import glob\n",
    "import os\n",
    "import raytracing as rt\n",
    "from scipy.ndimage import gaussian_filter\n",
    "\n",
    "import scipy.optimize as spo\n",
    "import scipy.constants as spc\n",
    "import scipy.integrate as spi\n",
    "import scipy.linalg as spl\n",
    "import scipy.signal as spsi\n",
    "import scipy.stats as spst"
   ]
  },
  {
   "cell_type": "code",
   "execution_count": null,
   "metadata": {},
   "outputs": [],
   "source": [
    "def lire_csv(chemin_fichier):\n",
    "    \"\"\"\n",
    "    Lecture d'un fichier CSV avec une première ligne à ignorer,\n",
    "    et renvoie un DataFrame pandas.\n",
    "\n",
    "    Args:\n",
    "        chemin_fichier (str): Le chemin d'accès vers le fichier CSV.\n",
    "\n",
    "    Returns:\n",
    "        pandas.DataFrame: Un DataFrame pandas contenant les données du fichier CSV.\n",
    "    \"\"\"\n",
    "    # Lire le fichier en ignorant la première ligne\n",
    "    with open(chemin_fichier, 'r', encoding='utf-8') as fichier:\n",
    "        lignes = fichier.readlines()[1:]  # Ignorer la première ligne\n",
    "    \n",
    "    # Préparer le contenu transformé\n",
    "    contenu_transforme = []\n",
    "    for ligne in lignes:\n",
    "        partie_gauche, _, partie_droite = ligne.partition(', ')  # Séparer à la première virgule\n",
    "        partie_gauche, partie_droite = partie_gauche.replace(',', '.'), partie_droite.replace(',', '.')   # Au cas où, mais devrait être inutile ici\n",
    "        ligne_transformee = partie_gauche + ';' + partie_droite\n",
    "        contenu_transforme.append(ligne_transformee)\n",
    "    \n",
    "    # Convertir le contenu transformé en un objet StringIO\n",
    "    contenu_csv = StringIO(''.join(contenu_transforme))\n",
    "    \n",
    "    # Lire le contenu transformé en DataFrame\n",
    "    df = pd.read_csv(contenu_csv, names=['Pixels', 'Value'],sep=\";\")\n",
    "    return df"
   ]
  },
  {
   "cell_type": "markdown",
   "metadata": {},
   "source": [
    "# Données partie 3"
   ]
  },
  {
   "cell_type": "code",
   "execution_count": null,
   "metadata": {},
   "outputs": [],
   "source": [
    "# Partie 3 a\n",
    "df_partie_3a = pd.read_excel(\"Projet_final.xlsx\", sheet_name=\"Partie 3a\")\n",
    "\n",
    "p3a_ms = df_partie_3a[\"ms\"]\n",
    "p3a_shutter_speed = df_partie_3a[\"shutter speed (fps)\"]\n",
    "p3a_mu = df_partie_3a[\"mu (ln(I_0/I))\"]\n",
    "p3a_sigma = df_partie_3a[\"sigma\"]\n",
    "\n",
    "# Partie 3 b\n",
    "df_partie_3b = pd.read_excel(\"Projet_final.xlsx\", sheet_name=\"Partie 3b\")\n",
    "\n",
    "p3b_bruit = df_partie_3b[\"bruit (%)\"][1:8]\n",
    "p3b_mu_B = df_partie_3b[\"mu_B\"][1:8]\n",
    "p3b_sigma_B = df_partie_3b[\"sigma_B\"][1:8]\n",
    "p3b_cone_clair_mu = df_partie_3b[\"Cône clair\"][1:8]\n",
    "p3b_cone_clair_cnr = df_partie_3b[\"Unnamed: 5\"][1:8]\n",
    "p3b_cone_sombre_mu = df_partie_3b[\"Cône clair\"][1:8]\n",
    "p3b_cone_sombre_cnr = df_partie_3b[\"Unnamed: 8\"][1:8]"
   ]
  }
 ],
 "metadata": {
  "language_info": {
   "name": "python"
  }
 },
 "nbformat": 4,
 "nbformat_minor": 2
}
