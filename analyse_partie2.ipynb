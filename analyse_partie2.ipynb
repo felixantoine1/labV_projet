{
 "cells": [
  {
   "cell_type": "code",
   "execution_count": null,
   "metadata": {},
   "outputs": [],
   "source": [
    "import pandas as pd\n",
    "import numpy as np\n",
    "import matplotlib.pyplot as mpl\n",
    "from sklearn.metrics import r2_score\n",
    "from io import StringIO\n",
    "import glob\n",
    "import os\n",
    "import raytracing as rt\n",
    "from scipy.ndimage import gaussian_filter\n",
    "\n",
    "import scipy.optimize as spo\n",
    "import scipy.constants as spc\n",
    "import scipy.integrate as spi\n",
    "import scipy.linalg as spl\n",
    "import scipy.signal as spsi\n",
    "import scipy.stats as spst"
   ]
  },
  {
   "cell_type": "code",
   "execution_count": null,
   "metadata": {},
   "outputs": [],
   "source": [
    "def lire_csv(chemin_fichier):\n",
    "    \"\"\"\n",
    "    Lecture d'un fichier CSV avec une première ligne à ignorer,\n",
    "    et renvoie un DataFrame pandas.\n",
    "\n",
    "    Args:\n",
    "        chemin_fichier (str): Le chemin d'accès vers le fichier CSV.\n",
    "\n",
    "    Returns:\n",
    "        pandas.DataFrame: Un DataFrame pandas contenant les données du fichier CSV.\n",
    "    \"\"\"\n",
    "    # Lire le fichier en ignorant la première ligne\n",
    "    with open(chemin_fichier, 'r', encoding='utf-8') as fichier:\n",
    "        lignes = fichier.readlines()[1:]  # Ignorer la première ligne\n",
    "    \n",
    "    # Préparer le contenu transformé\n",
    "    contenu_transforme = []\n",
    "    for ligne in lignes:\n",
    "        partie_gauche, _, partie_droite = ligne.partition(', ')  # Séparer à la première virgule\n",
    "        partie_gauche, partie_droite = partie_gauche.replace(',', '.'), partie_droite.replace(',', '.')   # Au cas où, mais devrait être inutile ici\n",
    "        ligne_transformee = partie_gauche + ';' + partie_droite\n",
    "        contenu_transforme.append(ligne_transformee)\n",
    "    \n",
    "    # Convertir le contenu transformé en un objet StringIO\n",
    "    contenu_csv = StringIO(''.join(contenu_transforme))\n",
    "    \n",
    "    # Lire le contenu transformé en DataFrame\n",
    "    df = pd.read_csv(contenu_csv, names=['Pixels', 'Value'],sep=\";\")\n",
    "    return df"
   ]
  },
  {
   "cell_type": "markdown",
   "metadata": {},
   "source": [
    "# Données de la partie 2"
   ]
  },
  {
   "cell_type": "code",
   "execution_count": null,
   "metadata": {},
   "outputs": [],
   "source": [
    "df_partie_2 = pd.read_excel(\"Projet_final.xlsx\", sheet_name=\"Partie 2\")\n",
    "\n",
    "doigt1_mu = df_partie_2[\"doigt 1 (plus gros)\"][1:5]\n",
    "doigt1_sigma = df_partie_2[\"Unnamed: 3\"][1:5]\n",
    "doigt2_mu = df_partie_2[\"doigt 2\"][1:5]\n",
    "doigt2_sigma = df_partie_2[\"Unnamed: 5\"][1:5]\n",
    "doigt3_mu = df_partie_2[\"doigt 3\"][1:5]\n",
    "doigt3_sigma = df_partie_2[\"Unnamed: 7\"][1:5]\n",
    "doigt4_mu = df_partie_2[\"doigt 4 (plus petit)\"][1:5]\n",
    "doigt4_sigma = df_partie_2[\"Unnamed: 9\"][1:5]"
   ]
  }
 ],
 "metadata": {
  "language_info": {
   "name": "python"
  }
 },
 "nbformat": 4,
 "nbformat_minor": 2
}
