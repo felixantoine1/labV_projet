{
 "cells": [
  {
   "cell_type": "code",
   "execution_count": 1,
   "metadata": {},
   "outputs": [],
   "source": [
    "import pandas as pd\n",
    "import numpy as np\n",
    "import matplotlib.pyplot as mpl\n",
    "from sklearn.metrics import r2_score\n",
    "from io import StringIO\n",
    "import glob\n",
    "import os\n",
    "import raytracing as rt\n",
    "from scipy.ndimage import gaussian_filter\n",
    "\n",
    "import scipy.optimize as spo\n",
    "import scipy.constants as spc\n",
    "import scipy.integrate as spi\n",
    "import scipy.linalg as spl\n",
    "import scipy.signal as spsi\n",
    "import scipy.stats as spst"
   ]
  },
  {
   "cell_type": "markdown",
   "metadata": {},
   "source": [
    "# Données de la partie 1"
   ]
  },
  {
   "cell_type": "code",
   "execution_count": 2,
   "metadata": {},
   "outputs": [],
   "source": [
    "def lire_csv(chemin_fichier):\n",
    "    \"\"\"\n",
    "    Lecture d'un fichier CSV avec une première ligne à ignorer,\n",
    "    et renvoie un DataFrame pandas.\n",
    "\n",
    "    Args:\n",
    "        chemin_fichier (str): Le chemin d'accès vers le fichier CSV.\n",
    "\n",
    "    Returns:\n",
    "        pandas.DataFrame: Un DataFrame pandas contenant les données du fichier CSV.\n",
    "    \"\"\"\n",
    "    # Lire le fichier en ignorant la première ligne\n",
    "    with open(chemin_fichier, 'r', encoding='utf-8') as fichier:\n",
    "        lignes = fichier.readlines()[1:]  # Ignorer la première ligne\n",
    "    \n",
    "    # Préparer le contenu transformé\n",
    "    contenu_transforme = []\n",
    "    for ligne in lignes:\n",
    "        partie_gauche, _, partie_droite = ligne.partition(', ')  # Séparer à la première virgule\n",
    "        partie_gauche, partie_droite = partie_gauche.replace(',', '.'), partie_droite.replace(',', '.')   # Au cas où, mais devrait être inutile ici\n",
    "        ligne_transformee = partie_gauche + ';' + partie_droite\n",
    "        contenu_transforme.append(ligne_transformee)\n",
    "    \n",
    "    # Convertir le contenu transformé en un objet StringIO\n",
    "    contenu_csv = StringIO(''.join(contenu_transforme))\n",
    "    \n",
    "    # Lire le contenu transformé en DataFrame\n",
    "    df = pd.read_csv(contenu_csv, names=['Pixels', 'Value'],sep=\";\")\n",
    "    return df"
   ]
  },
  {
   "cell_type": "code",
   "execution_count": 3,
   "metadata": {},
   "outputs": [],
   "source": [
    "df_partie_1 = pd.read_excel(\"Projet_final.xlsx\", sheet_name=\"Partie 1\")\n",
    "\n",
    "volume = df_partie_1[r\"Volume solution ajoutée (ml)\"]\n",
    "mu_2d = df_partie_1[r\"2D \\mu\"]\n",
    "mu_3d = df_partie_1[r\"3D \\mu\"]\n",
    "sigma_3d = df_partie_1[r\"3D \\sigma\"]\n",
    "ln_intensity = df_partie_1[r\"2D ln(I_0/I)\"]\n",
    "sigma_ln_intensity = df_partie_1[r\"2D \\sigma \\ln(I_0/I)\"]"
   ]
  }
 ],
 "metadata": {
  "kernelspec": {
   "display_name": "Python 3",
   "language": "python",
   "name": "python3"
  },
  "language_info": {
   "codemirror_mode": {
    "name": "ipython",
    "version": 3
   },
   "file_extension": ".py",
   "mimetype": "text/x-python",
   "name": "python",
   "nbconvert_exporter": "python",
   "pygments_lexer": "ipython3",
   "version": "3.10.4"
  }
 },
 "nbformat": 4,
 "nbformat_minor": 2
}
