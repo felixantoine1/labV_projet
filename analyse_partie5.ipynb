{
 "cells": [
  {
   "cell_type": "code",
   "execution_count": null,
   "metadata": {},
   "outputs": [],
   "source": [
    "import pandas as pd\n",
    "import numpy as np\n",
    "import matplotlib.pyplot as mpl\n",
    "from sklearn.metrics import r2_score\n",
    "from io import StringIO\n",
    "import glob\n",
    "import os\n",
    "import raytracing as rt\n",
    "from scipy.ndimage import gaussian_filter\n",
    "\n",
    "import scipy.optimize as spo\n",
    "import scipy.constants as spc\n",
    "import scipy.integrate as spi\n",
    "import scipy.linalg as spl\n",
    "import scipy.signal as spsi\n",
    "import scipy.stats as spst"
   ]
  },
  {
   "cell_type": "code",
   "execution_count": null,
   "metadata": {},
   "outputs": [],
   "source": [
    "def lire_csv(chemin_fichier):\n",
    "    \"\"\"\n",
    "    Lecture d'un fichier CSV avec une première ligne à ignorer,\n",
    "    et renvoie un DataFrame pandas.\n",
    "\n",
    "    Args:\n",
    "        chemin_fichier (str): Le chemin d'accès vers le fichier CSV.\n",
    "\n",
    "    Returns:\n",
    "        pandas.DataFrame: Un DataFrame pandas contenant les données du fichier CSV.\n",
    "    \"\"\"\n",
    "    # Lire le fichier en ignorant la première ligne\n",
    "    with open(chemin_fichier, 'r', encoding='utf-8') as fichier:\n",
    "        lignes = fichier.readlines()[1:]  # Ignorer la première ligne\n",
    "    \n",
    "    # Préparer le contenu transformé\n",
    "    contenu_transforme = []\n",
    "    for ligne in lignes:\n",
    "        partie_gauche, _, partie_droite = ligne.partition(', ')  # Séparer à la première virgule\n",
    "        partie_gauche, partie_droite = partie_gauche.replace(',', '.'), partie_droite.replace(',', '.')   # Au cas où, mais devrait être inutile ici\n",
    "        ligne_transformee = partie_gauche + ';' + partie_droite\n",
    "        contenu_transforme.append(ligne_transformee)\n",
    "    \n",
    "    # Convertir le contenu transformé en un objet StringIO\n",
    "    contenu_csv = StringIO(''.join(contenu_transforme))\n",
    "    \n",
    "    # Lire le contenu transformé en DataFrame\n",
    "    df = pd.read_csv(contenu_csv, names=['Pixels', 'Value'],sep=\";\")\n",
    "    return df"
   ]
  },
  {
   "cell_type": "markdown",
   "metadata": {},
   "source": [
    "# Données partie 5"
   ]
  },
  {
   "cell_type": "code",
   "execution_count": null,
   "metadata": {},
   "outputs": [],
   "source": [
    "p5_2d_320_025_bas = lire_csv(r\"partie 5\\2d_320_025_bas.csv\")\n",
    "p5_2d_320_025_haut = lire_csv(r\"partie 5\\2d_320_025_haut.csv\")\n",
    "p5_2d_320_025_milieu = lire_csv(r\"partie 5\\2d_320_025_milieu.csv\")\n",
    "p5_3d_040_025_bas = lire_csv(r\"partie 5\\3d_040_025_bas.csv\")\n",
    "p5_3d_040_025_haut = lire_csv(r\"partie 5\\3d_040_025_haut.csv\")\n",
    "p5_3d_040_025_milieu = lire_csv(r\"partie 5\\3d_040_025_milieu.csv\")\n",
    "p5_3d_160_025_bas = lire_csv(r\"partie 5\\3d_160_025_bas.csv\")\n",
    "p5_3d_160_025_haut = lire_csv(r\"partie 5\\3d_160_025_haut.csv\")\n",
    "p5_3d_160_025_milieu = lire_csv(r\"partie 5\\3d_160_025_milieu.csv\")\n",
    "p5_3d_320_025_bas = lire_csv(r\"partie 5\\3d_320_025_bas.csv\")\n",
    "p5_3d_320_025_haut = lire_csv(r\"partie 5\\3d_320_025_haut.csv\")\n",
    "p5_3d_320_025_milieu = lire_csv(r\"partie 5\\3d_320_025_milieu.csv\")\n",
    "p5_3d_320_025_dia050 = lire_csv(r\"partie 5\\3d_320_025_dia050.csv\")\n",
    "p5_3d_320_025_dia100 = lire_csv(r\"partie 5\\3d_320_025_dia100.csv\")\n",
    "p5_3d_320_025_dia150 = lire_csv(r\"partie 5\\3d_320_025_dia150.csv\")\n",
    "p5_3d_320_050_bas = lire_csv(r\"partie 5\\3d_320_050_bas.csv\")\n",
    "p5_3d_320_050_haut = lire_csv(r\"partie 5\\3d_320_050_haut.csv\")\n",
    "p5_3d_320_050_milieu = lire_csv(r\"partie 5\\3d_320_050_milieu.csv\")\n",
    "p5_3d_320_200_bas = lire_csv(r\"partie 5\\3d_320_200_bas.csv\")\n",
    "p5_3d_320_200_haut = lire_csv(r\"partie 5\\3d_320_200_haut.csv\")\n",
    "p5_3d_320_200_milieu = lire_csv(r\"partie 5\\3d_320_200_milieu.csv\")"
   ]
  }
 ],
 "metadata": {
  "language_info": {
   "name": "python"
  }
 },
 "nbformat": 4,
 "nbformat_minor": 2
}
